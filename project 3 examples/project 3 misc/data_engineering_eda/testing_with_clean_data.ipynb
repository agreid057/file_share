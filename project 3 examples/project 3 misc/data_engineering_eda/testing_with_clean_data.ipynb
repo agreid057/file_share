{
 "cells": [
  {
   "cell_type": "code",
   "execution_count": 5,
   "id": "6334fa6d-910e-47df-8e19-67f6eabf1446",
   "metadata": {},
   "outputs": [],
   "source": [
    "import matplotlib.pyplot as plt\n",
    "import pandas as pd\n",
    "import numpy as np\n",
    "import scipy.stats as st\n",
    "from scipy.stats import linregress\n",
    "import chardet"
   ]
  },
  {
   "cell_type": "code",
   "execution_count": 6,
   "id": "63e29479-19eb-4e02-a88c-5e04c3558e32",
   "metadata": {},
   "outputs": [],
   "source": [
    "# Function to detect encoding of a file\n",
    "def detect_encoding(super_charger_path):\n",
    "    with open(super_charger_path, 'rb') as f:\n",
    "        result = chardet.detect(f.read())\n",
    "    return result['encoding']"
   ]
  },
  {
   "cell_type": "code",
   "execution_count": 7,
   "id": "c9458776-b1b0-46f0-8d5c-14a226564e71",
   "metadata": {},
   "outputs": [],
   "source": [
    "# Study data files\n",
    "super_charger_path = \"../resources/Supercharge Locations.csv\""
   ]
  },
  {
   "cell_type": "code",
   "execution_count": 8,
   "id": "27543859-c059-437b-9a6d-a64a88f38375",
   "metadata": {},
   "outputs": [],
   "source": [
    "# Detect the encoding of the CSV file\n",
    "encoding = detect_encoding(super_charger_path)"
   ]
  },
  {
   "cell_type": "code",
   "execution_count": 9,
   "id": "4e0a85bb-0fc0-4c6f-a004-895e473bca91",
   "metadata": {},
   "outputs": [],
   "source": [
    "# Read the tesla data \n",
    "super_charger = pd.read_csv(super_charger_path, encoding=encoding)"
   ]
  },
  {
   "cell_type": "code",
   "execution_count": 10,
   "id": "4305ee31-dc4d-4cbb-8825-32235e056799",
   "metadata": {},
   "outputs": [
    {
     "name": "stdout",
     "output_type": "stream",
     "text": [
      "<class 'pandas.core.frame.DataFrame'>\n",
      "RangeIndex: 5876 entries, 0 to 5875\n",
      "Data columns (total 12 columns):\n",
      " #   Column          Non-Null Count  Dtype  \n",
      "---  ------          --------------  -----  \n",
      " 0   Supercharger    5876 non-null   object \n",
      " 1   Street Address  5876 non-null   object \n",
      " 2   City            5876 non-null   object \n",
      " 3   State           5754 non-null   object \n",
      " 4   Zip             3947 non-null   object \n",
      " 5   Country         5876 non-null   object \n",
      " 6   Stalls          5876 non-null   int64  \n",
      " 7   kW              5870 non-null   float64\n",
      " 8   GPS             5876 non-null   object \n",
      " 9   Elev(m)         5876 non-null   int64  \n",
      " 10  Open Date       5126 non-null   object \n",
      " 11  Unnamed: 11     0 non-null      float64\n",
      "dtypes: float64(2), int64(2), object(8)\n",
      "memory usage: 551.0+ KB\n"
     ]
    }
   ],
   "source": [
    "#using .info to make sure everthing looks okay before merging the data frames\n",
    "super_charger.info()"
   ]
  },
  {
   "cell_type": "code",
   "execution_count": null,
   "id": "a28f7124-c3b9-458c-be17-420f0a1b28c7",
   "metadata": {},
   "outputs": [],
   "source": [
    "#finding the individual countries\n",
    "countries= super_charger[\"Country\"].unique()\n",
    "print(countries)"
   ]
  },
  {
   "cell_type": "code",
   "execution_count": null,
   "id": "1efde416-5459-4e06-8978-178bb79d2276",
   "metadata": {},
   "outputs": [],
   "source": [
    "#making it alpha order to better copy to the dash board\n",
    "value_counts =super_charger[\"Country\"].value_counts()\n",
    "sorted_values = value_counts.index.sort_values()\n",
    "print(sorted_values)"
   ]
  },
  {
   "cell_type": "code",
   "execution_count": null,
   "id": "f3c3be12-d387-4c69-9747-f5c694d6b7ce",
   "metadata": {},
   "outputs": [],
   "source": [
    "super_charger.head()"
   ]
  },
  {
   "cell_type": "code",
   "execution_count": null,
   "id": "59267b4c-530f-4f96-84b0-71b600f30568",
   "metadata": {},
   "outputs": [],
   "source": [
    "#making it alpha order to better copy to the dash board STATE\n",
    "value_counts =super_charger[\"City\"].value_counts()\n",
    "sorted_values = value_counts.index.sort_values()\n",
    "print(sorted_values)"
   ]
  },
  {
   "cell_type": "code",
   "execution_count": null,
   "id": "9501d7ca-0a5a-4db6-baeb-2299e09c96ee",
   "metadata": {},
   "outputs": [],
   "source": [
    "# Filter data for a specific country (e.g., USA)\n",
    "specific_country = \"Australia\"\n",
    "super_charger_specific_country = super_charger[super_charger[\"Country\"] == specific_country]\n",
    "\n",
    "# Perform value counts on the \"City\" column for the specific country\n",
    "value_counts = super_charger_specific_country[\"State\"].value_counts()\n",
    "\n",
    "# Sort the index (states) in alphabetical order\n",
    "sorted_values = value_counts.index.sort_values()\n",
    "\n",
    "# Print the sorted states for the specific country\n",
    "print(sorted_values)"
   ]
  },
  {
   "cell_type": "code",
   "execution_count": null,
   "id": "aa5e9b0d-2906-4c6a-b19e-baeae0247c61",
   "metadata": {},
   "outputs": [],
   "source": [
    "# Filter data for a specific country (e.g., USA)\n",
    "specific_country = \"Austria\"\n",
    "super_charger_specific_country = super_charger[super_charger[\"Country\"] == specific_country]\n",
    "\n",
    "# Perform value counts on the \"City\" column for the specific country\n",
    "value_counts = super_charger_specific_country[\"State\"].value_counts()\n",
    "\n",
    "# Sort the index (states) in alphabetical order\n",
    "sorted_values = value_counts.index.sort_values()\n",
    "\n",
    "# Print the sorted states for the specific country\n",
    "print(sorted_values)"
   ]
  },
  {
   "cell_type": "code",
   "execution_count": null,
   "id": "407ec45b-0a28-44f0-8fe5-3e6a4f2fca1c",
   "metadata": {},
   "outputs": [],
   "source": [
    "# Filter data for a specific country (e.g., USA)\n",
    "specific_country = \"Belgium\"\n",
    "super_charger_specific_country = super_charger[super_charger[\"Country\"] == specific_country]\n",
    "\n",
    "# Perform value counts on the \"City\" column for the specific country\n",
    "value_counts = super_charger_specific_country[\"State\"].value_counts()\n",
    "\n",
    "# Sort the index (states) in alphabetical order\n",
    "sorted_values = value_counts.index.sort_values()\n",
    "\n",
    "# Print the sorted states for the specific country\n",
    "print(sorted_values)"
   ]
  },
  {
   "cell_type": "code",
   "execution_count": null,
   "id": "00ac3f14-e4af-4866-8370-d65b0cf57aa2",
   "metadata": {},
   "outputs": [],
   "source": [
    "# Filter data for a specific country (e.g., USA)\n",
    "specific_country = \"Bulgaria\"\n",
    "super_charger_specific_country = super_charger[super_charger[\"Country\"] == specific_country]\n",
    "\n",
    "# Perform value counts on the \"City\" column for the specific country\n",
    "value_counts = super_charger_specific_country[\"State\"].value_counts()\n",
    "\n",
    "# Sort the index (states) in alphabetical order\n",
    "sorted_values = value_counts.index.sort_values()\n",
    "\n",
    "# Print the sorted states for the specific country\n",
    "print(sorted_values)"
   ]
  },
  {
   "cell_type": "code",
   "execution_count": null,
   "id": "c9784564-a581-4696-b9bb-766fc75712d7",
   "metadata": {},
   "outputs": [],
   "source": [
    "# Filter data for a specific country (e.g., USA)\n",
    "specific_country = \"Canada\"\n",
    "super_charger_specific_country = super_charger[super_charger[\"Country\"] == specific_country]\n",
    "\n",
    "# Perform value counts on the \"City\" column for the specific country\n",
    "value_counts = super_charger_specific_country[\"State\"].value_counts()\n",
    "\n",
    "# Sort the index (states) in alphabetical order\n",
    "sorted_values = value_counts.index.sort_values()\n",
    "\n",
    "# Print the sorted states for the specific country\n",
    "print(sorted_values)"
   ]
  },
  {
   "cell_type": "code",
   "execution_count": null,
   "id": "53a8ea45-44f1-4c8c-8110-23540a9393cf",
   "metadata": {},
   "outputs": [],
   "source": [
    "# Filter data for a specific country (e.g., USA)\n",
    "specific_country = \"China\"\n",
    "super_charger_specific_country = super_charger[super_charger[\"Country\"] == specific_country]\n",
    "\n",
    "# Perform value counts on the \"City\" column for the specific country\n",
    "value_counts = super_charger_specific_country[\"State\"].value_counts()\n",
    "\n",
    "# Sort the index (states) in alphabetical order\n",
    "sorted_values = value_counts.index.sort_values()\n",
    "\n",
    "# Print the sorted states for the specific country\n",
    "print(sorted_values)"
   ]
  },
  {
   "cell_type": "code",
   "execution_count": null,
   "id": "5abe40c8-cdc8-40fb-8308-f13193aee5d5",
   "metadata": {},
   "outputs": [],
   "source": [
    "# Filter data for a specific country (e.g., USA)\n",
    "specific_country = \"Czech Republic\"\n",
    "super_charger_specific_country = super_charger[super_charger[\"Country\"] == specific_country]\n",
    "\n",
    "# Perform value counts on the \"City\" column for the specific country\n",
    "value_counts = super_charger_specific_country[\"State\"].value_counts()\n",
    "\n",
    "# Sort the index (states) in alphabetical order\n",
    "sorted_values = value_counts.index.sort_values()\n",
    "\n",
    "# Print the sorted states for the specific country\n",
    "print(sorted_values)"
   ]
  },
  {
   "cell_type": "code",
   "execution_count": null,
   "id": "701fb91a-bdef-41a3-bd40-7c4979bc5ed8",
   "metadata": {},
   "outputs": [],
   "source": [
    "# Filter data for a specific country (e.g., USA)\n",
    "specific_country = \"Denmark\"\n",
    "super_charger_specific_country = super_charger[super_charger[\"Country\"] == specific_country]\n",
    "\n",
    "# Perform value counts on the \"City\" column for the specific country\n",
    "value_counts = super_charger_specific_country[\"State\"].value_counts()\n",
    "\n",
    "# Sort the index (states) in alphabetical order\n",
    "sorted_values = value_counts.index.sort_values()\n",
    "\n",
    "# Print the sorted states for the specific country\n",
    "print(sorted_values)"
   ]
  },
  {
   "cell_type": "code",
   "execution_count": null,
   "id": "897ff706-68c9-4441-af2c-385cfd02ba2a",
   "metadata": {},
   "outputs": [],
   "source": [
    "# Filter data for a specific country (e.g., USA)\n",
    "specific_country = \"Finland\"\n",
    "super_charger_specific_country = super_charger[super_charger[\"Country\"] == specific_country]\n",
    "\n",
    "# Perform value counts on the \"City\" column for the specific country\n",
    "value_counts = super_charger_specific_country[\"State\"].value_counts()\n",
    "\n",
    "# Sort the index (states) in alphabetical order\n",
    "sorted_values = value_counts.index.sort_values()\n",
    "\n",
    "# Print the sorted states for the specific country\n",
    "print(sorted_values)"
   ]
  },
  {
   "cell_type": "code",
   "execution_count": null,
   "id": "dc7011f5-fb23-47d3-86e4-13160c476e87",
   "metadata": {},
   "outputs": [],
   "source": [
    "# Filter data for a specific country (e.g., USA)\n",
    "specific_country = \"France\"\n",
    "super_charger_specific_country = super_charger[super_charger[\"Country\"] == specific_country]\n",
    "\n",
    "# Perform value counts on the \"City\" column for the specific country\n",
    "value_counts = super_charger_specific_country[\"State\"].value_counts()\n",
    "\n",
    "# Sort the index (states) in alphabetical order\n",
    "sorted_values = value_counts.index.sort_values()\n",
    "\n",
    "# Print the sorted states for the specific country\n",
    "print(sorted_values)"
   ]
  },
  {
   "cell_type": "code",
   "execution_count": null,
   "id": "4e123199-e62e-4e52-9d8b-087f75c25c14",
   "metadata": {},
   "outputs": [],
   "source": [
    "# Filter data for a specific country (e.g., USA)\n",
    "specific_country = \"Germany\"\n",
    "super_charger_specific_country = super_charger[super_charger[\"Country\"] == specific_country]\n",
    "\n",
    "# Perform value counts on the \"City\" column for the specific country\n",
    "value_counts = super_charger_specific_country[\"State\"].value_counts()\n",
    "\n",
    "# Sort the index (states) in alphabetical order\n",
    "sorted_values = value_counts.index.sort_values()\n",
    "\n",
    "# Print the sorted states for the specific country\n",
    "print(sorted_values)"
   ]
  },
  {
   "cell_type": "code",
   "execution_count": null,
   "id": "94c8abd6-7bcd-4f87-a3fd-0850428423c0",
   "metadata": {},
   "outputs": [],
   "source": [
    "# Filter data for a specific country (e.g., USA)\n",
    "specific_country = \"Greece\"\n",
    "super_charger_specific_country = super_charger[super_charger[\"Country\"] == specific_country]\n",
    "\n",
    "# Perform value counts on the \"City\" column for the specific country\n",
    "value_counts = super_charger_specific_country[\"State\"].value_counts()\n",
    "\n",
    "# Sort the index (states) in alphabetical order\n",
    "sorted_values = value_counts.index.sort_values()\n",
    "\n",
    "# Print the sorted states for the specific country\n",
    "print(sorted_values)"
   ]
  },
  {
   "cell_type": "code",
   "execution_count": null,
   "id": "1c468d85-d532-4b29-9218-ab08de4a9094",
   "metadata": {},
   "outputs": [],
   "source": [
    "# Filter data for a specific country (e.g., USA)\n",
    "specific_country = \"Hungary\"\n",
    "super_charger_specific_country = super_charger[super_charger[\"Country\"] == specific_country]\n",
    "\n",
    "# Perform value counts on the \"City\" column for the specific country\n",
    "value_counts = super_charger_specific_country[\"State\"].value_counts()\n",
    "\n",
    "# Sort the index (states) in alphabetical order\n",
    "sorted_values = value_counts.index.sort_values()\n",
    "\n",
    "# Print the sorted states for the specific country\n",
    "print(sorted_values)"
   ]
  },
  {
   "cell_type": "code",
   "execution_count": null,
   "id": "c59087a8-a9ac-4137-9cad-045a329539da",
   "metadata": {},
   "outputs": [],
   "source": [
    "# Filter data for a specific country (e.g., USA)\n",
    "specific_country = \"Iceland\"\n",
    "super_charger_specific_country = super_charger[super_charger[\"Country\"] == specific_country]\n",
    "\n",
    "# Perform value counts on the \"City\" column for the specific country\n",
    "value_counts = super_charger_specific_country[\"State\"].value_counts()\n",
    "\n",
    "# Sort the index (states) in alphabetical order\n",
    "sorted_values = value_counts.index.sort_values()\n",
    "\n",
    "# Print the sorted states for the specific country\n",
    "print(sorted_values)"
   ]
  },
  {
   "cell_type": "code",
   "execution_count": null,
   "id": "b5f3f7a8-2618-4d68-b24c-e27e88674e34",
   "metadata": {},
   "outputs": [],
   "source": [
    "# Filter data for a specific country (e.g., USA)\n",
    "specific_country = \"Ireland\"\n",
    "super_charger_specific_country = super_charger[super_charger[\"Country\"] == specific_country]\n",
    "\n",
    "# Perform value counts on the \"City\" column for the specific country\n",
    "value_counts = super_charger_specific_country[\"State\"].value_counts()\n",
    "\n",
    "# Sort the index (states) in alphabetical order\n",
    "sorted_values = value_counts.index.sort_values()\n",
    "\n",
    "# Print the sorted states for the specific country\n",
    "print(sorted_values)"
   ]
  },
  {
   "cell_type": "code",
   "execution_count": null,
   "id": "93925ed6-c110-42bb-9bdf-dbb6d208b0b3",
   "metadata": {},
   "outputs": [],
   "source": [
    "# Filter data for a specific country (e.g., USA)\n",
    "specific_country = \"Israel\"\n",
    "super_charger_specific_country = super_charger[super_charger[\"Country\"] == specific_country]\n",
    "\n",
    "# Perform value counts on the \"City\" column for the specific country\n",
    "value_counts = super_charger_specific_country[\"State\"].value_counts()\n",
    "\n",
    "# Sort the index (states) in alphabetical order\n",
    "sorted_values = value_counts.index.sort_values()\n",
    "\n",
    "# Print the sorted states for the specific country\n",
    "print(sorted_values)"
   ]
  },
  {
   "cell_type": "code",
   "execution_count": null,
   "id": "1d069ed0-6daa-43d1-a5c3-d4493855593c",
   "metadata": {},
   "outputs": [],
   "source": [
    "# Filter data for a specific country (e.g., USA)\n",
    "specific_country = \"Italy\"\n",
    "super_charger_specific_country = super_charger[super_charger[\"Country\"] == specific_country]\n",
    "\n",
    "# Perform value counts on the \"City\" column for the specific country\n",
    "value_counts = super_charger_specific_country[\"State\"].value_counts()\n",
    "\n",
    "# Sort the index (states) in alphabetical order\n",
    "sorted_values = value_counts.index.sort_values()\n",
    "\n",
    "# Print the sorted states for the specific country\n",
    "print(sorted_values)"
   ]
  },
  {
   "cell_type": "code",
   "execution_count": null,
   "id": "29fd65da-048b-4809-91ba-a48c5beabda7",
   "metadata": {},
   "outputs": [],
   "source": [
    "# Filter data for a specific country (e.g., USA)\n",
    "specific_country = \"Japan\"\n",
    "super_charger_specific_country = super_charger[super_charger[\"Country\"] == specific_country]\n",
    "\n",
    "# Perform value counts on the \"City\" column for the specific country\n",
    "value_counts = super_charger_specific_country[\"State\"].value_counts()\n",
    "\n",
    "# Sort the index (states) in alphabetical order\n",
    "sorted_values = value_counts.index.sort_values()\n",
    "\n",
    "# Print the sorted states for the specific country\n",
    "print(sorted_values)"
   ]
  },
  {
   "cell_type": "code",
   "execution_count": null,
   "id": "e0abda6e-c399-4db2-983d-7714bb669c3a",
   "metadata": {},
   "outputs": [],
   "source": [
    "# Filter data for a specific country (e.g., USA)\n",
    "specific_country = \"Kazakhstan\"\n",
    "super_charger_specific_country = super_charger[super_charger[\"Country\"] == specific_country]\n",
    "\n",
    "# Perform value counts on the \"City\" column for the specific country\n",
    "value_counts = super_charger_specific_country[\"State\"].value_counts()\n",
    "\n",
    "# Sort the index (states) in alphabetical order\n",
    "sorted_values = value_counts.index.sort_values()\n",
    "\n",
    "# Print the sorted states for the specific country\n",
    "print(sorted_values)"
   ]
  },
  {
   "cell_type": "code",
   "execution_count": null,
   "id": "c1c55b43-62e9-45b5-9db9-13d686ff93a7",
   "metadata": {},
   "outputs": [],
   "source": [
    "# Filter data for a specific country (e.g., USA)\n",
    "specific_country = \"Liechtenstein\"\n",
    "super_charger_specific_country = super_charger[super_charger[\"Country\"] == specific_country]\n",
    "\n",
    "# Perform value counts on the \"City\" column for the specific country\n",
    "value_counts = super_charger_specific_country[\"State\"].value_counts()\n",
    "\n",
    "# Sort the index (states) in alphabetical order\n",
    "sorted_values = value_counts.index.sort_values()\n",
    "\n",
    "# Print the sorted states for the specific country\n",
    "print(sorted_values)"
   ]
  },
  {
   "cell_type": "code",
   "execution_count": null,
   "id": "e5d13b03-9a08-43f2-8ea1-c43921ebb767",
   "metadata": {},
   "outputs": [],
   "source": [
    "# Filter data for a specific country (e.g., USA)\n",
    "specific_country = \"Lithuania\"\n",
    "super_charger_specific_country = super_charger[super_charger[\"Country\"] == specific_country]\n",
    "\n",
    "# Perform value counts on the \"City\" column for the specific country\n",
    "value_counts = super_charger_specific_country[\"State\"].value_counts()\n",
    "\n",
    "# Sort the index (states) in alphabetical order\n",
    "sorted_values = value_counts.index.sort_values()\n",
    "\n",
    "# Print the sorted states for the specific country\n",
    "print(sorted_values)"
   ]
  },
  {
   "cell_type": "code",
   "execution_count": null,
   "id": "1788fcb5-4498-4d06-946d-aa97badf1b1a",
   "metadata": {},
   "outputs": [],
   "source": [
    "# Filter data for a specific country (e.g., USA)\n",
    "specific_country = \"Luxembourg\"\n",
    "super_charger_specific_country = super_charger[super_charger[\"Country\"] == specific_country]\n",
    "\n",
    "# Perform value counts on the \"City\" column for the specific country\n",
    "value_counts = super_charger_specific_country[\"State\"].value_counts()\n",
    "\n",
    "# Sort the index (states) in alphabetical order\n",
    "sorted_values = value_counts.index.sort_values()\n",
    "\n",
    "# Print the sorted states for the specific country\n",
    "print(sorted_values)"
   ]
  },
  {
   "cell_type": "code",
   "execution_count": null,
   "id": "49665798-ef9f-4efe-af76-007d392dea0a",
   "metadata": {},
   "outputs": [],
   "source": [
    "# Filter data for a specific country (e.g., USA)\n",
    "specific_country = \"Mexico\"\n",
    "super_charger_specific_country = super_charger[super_charger[\"Country\"] == specific_country]\n",
    "\n",
    "# Perform value counts on the \"City\" column for the specific country\n",
    "value_counts = super_charger_specific_country[\"State\"].value_counts()\n",
    "\n",
    "# Sort the index (states) in alphabetical order\n",
    "sorted_values = value_counts.index.sort_values()\n",
    "\n",
    "# Print the sorted states for the specific country\n",
    "print(sorted_values)"
   ]
  },
  {
   "cell_type": "code",
   "execution_count": null,
   "id": "b920a2dd-029d-4be9-ad25-b2d84661fedd",
   "metadata": {},
   "outputs": [],
   "source": [
    "# Filter data for a specific country (e.g., USA)\n",
    "specific_country = \"Netherlands\"\n",
    "super_charger_specific_country = super_charger[super_charger[\"Country\"] == specific_country]\n",
    "\n",
    "# Perform value counts on the \"City\" column for the specific country\n",
    "value_counts = super_charger_specific_country[\"State\"].value_counts()\n",
    "\n",
    "# Sort the index (states) in alphabetical order\n",
    "sorted_values = value_counts.index.sort_values()\n",
    "\n",
    "# Print the sorted states for the specific country\n",
    "print(sorted_values)"
   ]
  },
  {
   "cell_type": "code",
   "execution_count": null,
   "id": "24af9372-efe6-445c-8df9-c7231ba0379f",
   "metadata": {},
   "outputs": [],
   "source": [
    "# Filter data for a specific country (e.g., USA)\n",
    "specific_country = \"'New Zealand\"\n",
    "super_charger_specific_country = super_charger[super_charger[\"Country\"] == specific_country]\n",
    "\n",
    "# Perform value counts on the \"City\" column for the specific country\n",
    "value_counts = super_charger_specific_country[\"State\"].value_counts()\n",
    "\n",
    "# Sort the index (states) in alphabetical order\n",
    "sorted_values = value_counts.index.sort_values()\n",
    "\n",
    "# Print the sorted states for the specific country\n",
    "print(sorted_values)"
   ]
  },
  {
   "cell_type": "code",
   "execution_count": null,
   "id": "abcf6622-53ba-476d-b9b4-3d8b5a023d64",
   "metadata": {},
   "outputs": [],
   "source": [
    "# Filter data for a specific country (e.g., USA)\n",
    "specific_country = \"Norway\"\n",
    "super_charger_specific_country = super_charger[super_charger[\"Country\"] == specific_country]\n",
    "\n",
    "# Perform value counts on the \"City\" column for the specific country\n",
    "value_counts = super_charger_specific_country[\"State\"].value_counts()\n",
    "\n",
    "# Sort the index (states) in alphabetical order\n",
    "sorted_values = value_counts.index.sort_values()\n",
    "\n",
    "# Print the sorted states for the specific country\n",
    "print(sorted_values)"
   ]
  },
  {
   "cell_type": "code",
   "execution_count": null,
   "id": "b58add0d-66d9-4068-be46-ab4ce5bd99fc",
   "metadata": {},
   "outputs": [],
   "source": [
    "# Filter data for a specific country (e.g., USA)\n",
    "specific_country = \"Poland\"\n",
    "super_charger_specific_country = super_charger[super_charger[\"Country\"] == specific_country]\n",
    "\n",
    "# Perform value counts on the \"City\" column for the specific country\n",
    "value_counts = super_charger_specific_country[\"State\"].value_counts()\n",
    "\n",
    "# Sort the index (states) in alphabetical order\n",
    "sorted_values = value_counts.index.sort_values()\n",
    "\n",
    "# Print the sorted states for the specific country\n",
    "print(sorted_values)"
   ]
  },
  {
   "cell_type": "code",
   "execution_count": null,
   "id": "62c58d0b-8a9b-411d-8bf4-4bcc10001cd3",
   "metadata": {},
   "outputs": [],
   "source": [
    "# Filter data for a specific country (e.g., USA)\n",
    "specific_country = \"Portugal\"\n",
    "super_charger_specific_country = super_charger[super_charger[\"Country\"] == specific_country]\n",
    "\n",
    "# Perform value counts on the \"City\" column for the specific country\n",
    "value_counts = super_charger_specific_country[\"State\"].value_counts()\n",
    "\n",
    "# Sort the index (states) in alphabetical order\n",
    "sorted_values = value_counts.index.sort_values()\n",
    "\n",
    "# Print the sorted states for the specific country\n",
    "print(sorted_values)"
   ]
  },
  {
   "cell_type": "code",
   "execution_count": null,
   "id": "ace9a799-1af1-474f-a1b9-56ca5141aa53",
   "metadata": {},
   "outputs": [],
   "source": [
    "# Filter data for a specific country (e.g., USA)\n",
    "specific_country = \"Romania\"\n",
    "super_charger_specific_country = super_charger[super_charger[\"Country\"] == specific_country]\n",
    "\n",
    "# Perform value counts on the \"City\" column for the specific country\n",
    "value_counts = super_charger_specific_country[\"State\"].value_counts()\n",
    "\n",
    "# Sort the index (states) in alphabetical order\n",
    "sorted_values = value_counts.index.sort_values()\n",
    "\n",
    "# Print the sorted states for the specific country\n",
    "print(sorted_values)"
   ]
  },
  {
   "cell_type": "code",
   "execution_count": null,
   "id": "d5082b98-cce1-4e11-bbac-8eb413deb0c4",
   "metadata": {},
   "outputs": [],
   "source": [
    "# Filter data for a specific country (e.g., USA)\n",
    "specific_country = \"Russia\"\n",
    "super_charger_specific_country = super_charger[super_charger[\"Country\"] == specific_country]\n",
    "\n",
    "# Perform value counts on the \"City\" column for the specific country\n",
    "value_counts = super_charger_specific_country[\"State\"].value_counts()\n",
    "\n",
    "# Sort the index (states) in alphabetical order\n",
    "sorted_values = value_counts.index.sort_values()\n",
    "\n",
    "# Print the sorted states for the specific country\n",
    "print(sorted_values)"
   ]
  },
  {
   "cell_type": "code",
   "execution_count": null,
   "id": "872f7966-82c4-4aab-831b-a230085b551c",
   "metadata": {},
   "outputs": [],
   "source": [
    "# Filter data for a specific country (e.g., USA)\n",
    "specific_country = \"Serbia\"\n",
    "super_charger_specific_country = super_charger[super_charger[\"Country\"] == specific_country]\n",
    "\n",
    "# Perform value counts on the \"City\" column for the specific country\n",
    "value_counts = super_charger_specific_country[\"State\"].value_counts()\n",
    "\n",
    "# Sort the index (states) in alphabetical order\n",
    "sorted_values = value_counts.index.sort_values()\n",
    "\n",
    "# Print the sorted states for the specific country\n",
    "print(sorted_values)"
   ]
  },
  {
   "cell_type": "code",
   "execution_count": null,
   "id": "11d26d2f-e0c6-4c3d-90b4-ac1bb24c893a",
   "metadata": {},
   "outputs": [],
   "source": [
    "# Filter data for a specific country (e.g., USA)\n",
    "specific_country = \"Slovakia\"\n",
    "super_charger_specific_country = super_charger[super_charger[\"Country\"] == specific_country]\n",
    "\n",
    "# Perform value counts on the \"City\" column for the specific country\n",
    "value_counts = super_charger_specific_country[\"State\"].value_counts()\n",
    "\n",
    "# Sort the index (states) in alphabetical order\n",
    "sorted_values = value_counts.index.sort_values()\n",
    "\n",
    "# Print the sorted states for the specific country\n",
    "print(sorted_values)"
   ]
  },
  {
   "cell_type": "code",
   "execution_count": null,
   "id": "af5dfe7e-d9af-45db-90ec-9ecd60c40820",
   "metadata": {},
   "outputs": [],
   "source": [
    "# Filter data for a specific country (e.g., USA)\n",
    "specific_country = \"Slovenia\"\n",
    "super_charger_specific_country = super_charger[super_charger[\"Country\"] == specific_country]\n",
    "\n",
    "# Perform value counts on the \"City\" column for the specific country\n",
    "value_counts = super_charger_specific_country[\"State\"].value_counts()\n",
    "\n",
    "# Sort the index (states) in alphabetical order\n",
    "sorted_values = value_counts.index.sort_values()\n",
    "\n",
    "# Print the sorted states for the specific country\n",
    "print(sorted_values)"
   ]
  },
  {
   "cell_type": "code",
   "execution_count": null,
   "id": "d8f346f6-6d53-418b-bd9e-d0b1496f24cb",
   "metadata": {},
   "outputs": [],
   "source": [
    "# Filter data for a specific country (e.g., USA)\n",
    "specific_country = \"South Korea\"\n",
    "super_charger_specific_country = super_charger[super_charger[\"Country\"] == specific_country]\n",
    "\n",
    "# Perform value counts on the \"City\" column for the specific country\n",
    "value_counts = super_charger_specific_country[\"State\"].value_counts()\n",
    "\n",
    "# Sort the index (states) in alphabetical order\n",
    "sorted_values = value_counts.index.sort_values()\n",
    "\n",
    "# Print the sorted states for the specific country\n",
    "print(sorted_values)"
   ]
  },
  {
   "cell_type": "code",
   "execution_count": null,
   "id": "0ab42b21-1bad-4a2e-8bd6-4d5d962a8260",
   "metadata": {},
   "outputs": [],
   "source": [
    "# Filter data for a specific country (e.g., USA)\n",
    "specific_country = \"Spain\"\n",
    "super_charger_specific_country = super_charger[super_charger[\"Country\"] == specific_country]\n",
    "\n",
    "# Perform value counts on the \"City\" column for the specific country\n",
    "value_counts = super_charger_specific_country[\"State\"].value_counts()\n",
    "\n",
    "# Sort the index (states) in alphabetical order\n",
    "sorted_values = value_counts.index.sort_values()\n",
    "\n",
    "# Print the sorted states for the specific country\n",
    "print(sorted_values)"
   ]
  },
  {
   "cell_type": "code",
   "execution_count": null,
   "id": "22215309-b8be-4096-a3da-82fc9d857401",
   "metadata": {},
   "outputs": [],
   "source": [
    "# Filter data for a specific country (e.g., USA)\n",
    "specific_country = \"Sweden\"\n",
    "super_charger_specific_country = super_charger[super_charger[\"Country\"] == specific_country]\n",
    "\n",
    "# Perform value counts on the \"City\" column for the specific country\n",
    "value_counts = super_charger_specific_country[\"State\"].value_counts()\n",
    "\n",
    "# Sort the index (states) in alphabetical order\n",
    "sorted_values = value_counts.index.sort_values()\n",
    "\n",
    "# Print the sorted states for the specific country\n",
    "print(sorted_values)"
   ]
  },
  {
   "cell_type": "code",
   "execution_count": null,
   "id": "3b513055-da43-4f05-abc2-df8d620728ec",
   "metadata": {},
   "outputs": [],
   "source": [
    "# Filter data for a specific country (e.g., USA)\n",
    "specific_country = \"Switzerland\"\n",
    "super_charger_specific_country = super_charger[super_charger[\"Country\"] == specific_country]\n",
    "\n",
    "# Perform value counts on the \"City\" column for the specific country\n",
    "value_counts = super_charger_specific_country[\"State\"].value_counts()\n",
    "\n",
    "# Sort the index (states) in alphabetical order\n",
    "sorted_values = value_counts.index.sort_values()\n",
    "\n",
    "# Print the sorted states for the specific country\n",
    "print(sorted_values)"
   ]
  },
  {
   "cell_type": "code",
   "execution_count": null,
   "id": "1d288a0a-1576-47cb-8392-a6d5cbbe69c6",
   "metadata": {},
   "outputs": [],
   "source": [
    "# Filter data for a specific country (e.g., USA)\n",
    "specific_country = \"Taiwan\"\n",
    "super_charger_specific_country = super_charger[super_charger[\"Country\"] == specific_country]\n",
    "\n",
    "# Perform value counts on the \"City\" column for the specific country\n",
    "value_counts = super_charger_specific_country[\"State\"].value_counts()\n",
    "\n",
    "# Sort the index (states) in alphabetical order\n",
    "sorted_values = value_counts.index.sort_values()\n",
    "\n",
    "# Print the sorted states for the specific country\n",
    "print(sorted_values)"
   ]
  },
  {
   "cell_type": "code",
   "execution_count": null,
   "id": "79d893c4-e8db-48d2-91f5-20f334340996",
   "metadata": {},
   "outputs": [],
   "source": [
    "# Filter data for a specific country (e.g., USA)\n",
    "specific_country = \"Thailand\"\n",
    "super_charger_specific_country = super_charger[super_charger[\"Country\"] == specific_country]\n",
    "\n",
    "# Perform value counts on the \"City\" column for the specific country\n",
    "value_counts = super_charger_specific_country[\"State\"].value_counts()\n",
    "\n",
    "# Sort the index (states) in alphabetical order\n",
    "sorted_values = value_counts.index.sort_values()\n",
    "\n",
    "# Print the sorted states for the specific country\n",
    "print(sorted_values)"
   ]
  },
  {
   "cell_type": "code",
   "execution_count": null,
   "id": "da70926c-3126-476e-89e8-6f15421ed81f",
   "metadata": {},
   "outputs": [],
   "source": [
    "# Filter data for a specific country (e.g., USA)\n",
    "specific_country = \"Turkey\"\n",
    "super_charger_specific_country = super_charger[super_charger[\"Country\"] == specific_country]\n",
    "\n",
    "# Perform value counts on the \"City\" column for the specific country\n",
    "value_counts = super_charger_specific_country[\"State\"].value_counts()\n",
    "\n",
    "# Sort the index (states) in alphabetical order\n",
    "sorted_values = value_counts.index.sort_values()\n",
    "\n",
    "# Print the sorted states for the specific country\n",
    "print(sorted_values)"
   ]
  },
  {
   "cell_type": "code",
   "execution_count": null,
   "id": "8e50fad2-b16b-449b-8818-016ff408a8a8",
   "metadata": {},
   "outputs": [],
   "source": [
    "# Filter data for a specific country (e.g., USA)\n",
    "specific_country = \"USA\"\n",
    "super_charger_specific_country = super_charger[super_charger[\"Country\"] == specific_country]\n",
    "\n",
    "# Perform value counts on the \"City\" column for the specific country\n",
    "value_counts = super_charger_specific_country[\"State\"].value_counts()\n",
    "\n",
    "# Sort the index (states) in alphabetical order\n",
    "sorted_values = value_counts.index.sort_values()\n",
    "\n",
    "# Print the sorted states for the specific country\n",
    "print(sorted_values)"
   ]
  },
  {
   "cell_type": "code",
   "execution_count": null,
   "id": "d360b7fe-74e8-48e6-9b76-9c2184372ad0",
   "metadata": {},
   "outputs": [],
   "source": [
    "# Filter data for a specific country (e.g., USA)\n",
    "specific_country = \"United Arab Emirates\"\n",
    "super_charger_specific_country = super_charger[super_charger[\"Country\"] == specific_country]\n",
    "\n",
    "# Perform value counts on the \"City\" column for the specific country\n",
    "value_counts = super_charger_specific_country[\"State\"].value_counts()\n",
    "\n",
    "# Sort the index (states) in alphabetical order\n",
    "sorted_values = value_counts.index.sort_values()\n",
    "\n",
    "# Print the sorted states for the specific country\n",
    "print(sorted_values)"
   ]
  },
  {
   "cell_type": "code",
   "execution_count": null,
   "id": "8a75e459-5d40-4186-a9e3-95736b994f29",
   "metadata": {},
   "outputs": [],
   "source": [
    "# Filter data for a specific country (e.g., USA)\n",
    "specific_country = \"United Kingdom\"\n",
    "super_charger_specific_country = super_charger[super_charger[\"Country\"] == specific_country]\n",
    "\n",
    "# Perform value counts on the \"City\" column for the specific country\n",
    "value_counts = super_charger_specific_country[\"State\"].value_counts()\n",
    "\n",
    "# Sort the index (states) in alphabetical order\n",
    "sorted_values = value_counts.index.sort_values()\n",
    "\n",
    "# Print the sorted states for the specific country\n",
    "print(sorted_values)"
   ]
  },
  {
   "cell_type": "code",
   "execution_count": null,
   "id": "a4510355-646c-4e1c-ac8e-d2b4db98a1bc",
   "metadata": {},
   "outputs": [],
   "source": []
  }
 ],
 "metadata": {
  "kernelspec": {
   "display_name": "Python 3 (ipykernel)",
   "language": "python",
   "name": "python3"
  },
  "language_info": {
   "codemirror_mode": {
    "name": "ipython",
    "version": 3
   },
   "file_extension": ".py",
   "mimetype": "text/x-python",
   "name": "python",
   "nbconvert_exporter": "python",
   "pygments_lexer": "ipython3",
   "version": "3.10.13"
  }
 },
 "nbformat": 4,
 "nbformat_minor": 5
}
